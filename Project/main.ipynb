{
 "cells": [
  {
   "cell_type": "code",
   "execution_count": 6,
   "metadata": {},
   "outputs": [
    {
     "ename": "error",
     "evalue": "OpenCV(4.9.0) D:\\a\\opencv-python\\opencv-python\\opencv\\modules\\ml\\src\\rtrees.cpp:483: error: (-2:Unspecified error) in function 'float __cdecl cv::ml::RTreesImpl::predict(const class cv::_InputArray &,const class cv::_OutputArray &,int) const'\n>  (expected: 'samples.cols() == getVarCount()'), where\n>     'samples.cols()' is 784\n> must be equal to\n>     'getVarCount()' is 0\n",
     "output_type": "error",
     "traceback": [
      "\u001b[1;31m---------------------------------------------------------------------------\u001b[0m",
      "\u001b[1;31merror\u001b[0m                                     Traceback (most recent call last)",
      "Cell \u001b[1;32mIn[6], line 32\u001b[0m\n\u001b[0;32m     27\u001b[0m rtree\u001b[38;5;241m.\u001b[39mload(\u001b[38;5;124m'\u001b[39m\u001b[38;5;124mrtree.model\u001b[39m\u001b[38;5;124m'\u001b[39m)\n\u001b[0;32m     28\u001b[0m \u001b[38;5;66;03m#rtree.train(X_train, cv2.ml.ROW_SAMPLE, y_train)\u001b[39;00m\n\u001b[0;32m     29\u001b[0m \u001b[38;5;66;03m#rtree.save('rtree.model')\u001b[39;00m\n\u001b[0;32m     30\u001b[0m \n\u001b[0;32m     31\u001b[0m \u001b[38;5;66;03m# Test\u001b[39;00m\n\u001b[1;32m---> 32\u001b[0m a, y_hat \u001b[38;5;241m=\u001b[39m \u001b[43mrtree\u001b[49m\u001b[38;5;241;43m.\u001b[39;49m\u001b[43mpredict\u001b[49m\u001b[43m(\u001b[49m\u001b[43mX_test\u001b[49m\u001b[43m)\u001b[49m\n\u001b[0;32m     33\u001b[0m \u001b[38;5;28mprint\u001b[39m(a)\n\u001b[0;32m     34\u001b[0m accuracy_score(y_test, y_hat)\n",
      "\u001b[1;31merror\u001b[0m: OpenCV(4.9.0) D:\\a\\opencv-python\\opencv-python\\opencv\\modules\\ml\\src\\rtrees.cpp:483: error: (-2:Unspecified error) in function 'float __cdecl cv::ml::RTreesImpl::predict(const class cv::_InputArray &,const class cv::_OutputArray &,int) const'\n>  (expected: 'samples.cols() == getVarCount()'), where\n>     'samples.cols()' is 784\n> must be equal to\n>     'getVarCount()' is 0\n"
     ]
    }
   ],
   "source": [
    "import pandas as pd\n",
    "from sklearn.model_selection import train_test_split\n",
    "from sklearn.metrics import accuracy_score\n",
    "import numpy as np\n",
    "import cv2\n",
    "\n",
    "train = pd.read_csv('data/train.csv')\n",
    "y = train['label']\n",
    "x = train.drop('label', axis=1)\n",
    "\n",
    "X_train, X_test, y_train, y_test = train_test_split(x, y, test_size=0.2, random_state=42)\n",
    "\n",
    "X_train = np.asarray(X_train).astype(np.float32)\n",
    "y_train = np.asarray(y_train).astype(np.int64)\n",
    "X_test = np.asarray(X_test).astype(np.float32)\n",
    "\n",
    "# Random Forest Algorithm (https://www.kaggle.com/code/apeksha23/96-opencv-image-classification?scriptVersionId=130012294)\n",
    "rtree = cv2.ml.RTrees_create()\n",
    "num_trees = 100\n",
    "eps = 0.01\n",
    "criteria = (cv2.TERM_CRITERIA_MAX_ITER + cv2.TERM_CRITERIA_EPS, num_trees, eps)\n",
    "rtree.setTermCriteria(criteria)\n",
    "rtree.setMaxCategories(np.unique(y_train).shape[0])\n",
    "rtree.setMinSampleCount(2)\n",
    "rtree.setMaxDepth(1000)\n",
    "rtree.train(X_train, cv2.ml.ROW_SAMPLE, y_train)\n",
    "\n",
    "# Test\n",
    "a, y_hat = rtree.predict(X_test)\n",
    "print(a)\n",
    "accuracy_score(y_test, y_hat)"
   ]
  },
  {
   "cell_type": "code",
   "execution_count": 1,
   "metadata": {},
   "outputs": [
    {
     "data": {
      "text/plain": [
       "0.11464285714285714"
      ]
     },
     "execution_count": 1,
     "metadata": {},
     "output_type": "execute_result"
    }
   ],
   "source": [
    "%reset -f\n",
    "from sklearn import svm\n",
    "import pandas as pd\n",
    "from sklearn.model_selection import train_test_split\n",
    "from sklearn.metrics import accuracy_score\n",
    "import numpy as np\n",
    "\n",
    "train = pd.read_csv('data/train.csv').sample(frac=1)\n",
    "y = train['label']\n",
    "x = train.drop('label', axis=1)\n",
    "\n",
    "X_train, X_test, y_train, y_test = train_test_split(x, y, test_size=0.2, random_state=42)\n",
    "\n",
    "X_train = np.asarray(X_train).astype(np.float32)\n",
    "y_train = np.asarray(y_train).astype(np.int64)\n",
    "X_test = np.asarray(X_test).astype(np.float32)\n",
    "\n",
    "classifier = svm.SVC(C=5, gamma=0.05)\n",
    "classifier.fit(X_train, y_train)\n",
    "\n",
    "y_hat = classifier.predict(X_test)\n",
    "accuracy_score(y_test, y_hat)"
   ]
  }
 ],
 "metadata": {
  "kernelspec": {
   "display_name": ".venv",
   "language": "python",
   "name": "python3"
  },
  "language_info": {
   "codemirror_mode": {
    "name": "ipython",
    "version": 3
   },
   "file_extension": ".py",
   "mimetype": "text/x-python",
   "name": "python",
   "nbconvert_exporter": "python",
   "pygments_lexer": "ipython3",
   "version": "3.12.1"
  }
 },
 "nbformat": 4,
 "nbformat_minor": 2
}
